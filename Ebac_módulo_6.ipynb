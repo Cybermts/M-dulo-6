{
  "nbformat": 4,
  "nbformat_minor": 0,
  "metadata": {
    "colab": {
      "provenance": [],
      "authorship_tag": "ABX9TyMqUuPyDRlzAlLp0CMs9eyo"
    },
    "kernelspec": {
      "name": "python3",
      "display_name": "Python 3"
    },
    "language_info": {
      "name": "python"
    }
  },
  "cells": [
    {
      "cell_type": "markdown",
      "source": [
        "# 0. Preparação do ambiente\n",
        "Neste exercício vamos trabalhar com os arquivos de csv e texto definidos abaixo. Execute cada\n",
        "uma das células de código para escrever os arquivos na sua máquina virtual.\n",
        "\n",
        "**carros.csv**: arquivo csv com informações sobre carros (venda, manutenção, portas, etc.)."
      ],
      "metadata": {
        "id": "S_l1mB3zFP1R"
      }
    },
    {
      "cell_type": "code",
      "execution_count": null,
      "metadata": {
        "colab": {
          "base_uri": "https://localhost:8080/"
        },
        "id": "bZCfB-4CEtSV",
        "outputId": "c89b8fee-cc4d-4ea6-b48b-5e24253c8be4"
      },
      "outputs": [
        {
          "output_type": "stream",
          "name": "stdout",
          "text": [
            "Overwriting carros.csv\n"
          ]
        }
      ],
      "source": [
        "%%writefile carros.csv\n",
        "id,valor_venda,valor_manutencao,portas,pessoas,porta_malas\n",
        "1,vhigh,med,2,2,small\n",
        "2,med,vhigh,2,2,small\n",
        "3,low,vhigh,2,2,small\n",
        "4,low,high,2,2,small\n",
        "5,low,high,2,2,small\n",
        "6,low,high,4,4,big\n",
        "7,low,high,4,4,big\n",
        "8,low,med,2,2,small\n",
        "9,low,med,2,2,small\n",
        "10,low,med,2,2,small\n",
        "11,low,med,4,4,big\n",
        "12,low,low,2,2,small\n",
        "13,low,low,4,4,small\n",
        "14,low,low,4,4,med"
      ]
    },
    {
      "cell_type": "markdown",
      "source": [
        "**musica.txt**: arquivo texto com a letra da música Roda Viva do Chico Buarque."
      ],
      "metadata": {
        "id": "67guhaqcFpXj"
      }
    },
    {
      "cell_type": "code",
      "source": [
        "%%writefile musica.txt\n",
        "Roda Viva\n",
        "Chico Buarque\n",
        "\n",
        "Tem dias que a gente se sente\n",
        "Como quem partiu ou morreu\n",
        "A gente estancou de repente\n",
        "Ou foi o mundo então que cresceu\n",
        "A gente quer ter voz ativa\n",
        "No nosso destino mandar\n",
        "Mas eis que chega a roda viva\n",
        "E carrega o destino pra lá\n",
        "Roda mundo, roda-gigante\n",
        "Roda moinho, roda pião\n",
        "O tempo rodou num instante\n",
        "Nas voltas do meu coração\n",
        "A gente vai contra a corrente\n",
        "Até não poder resistir\n",
        "Na volta do barco é que sente\n",
        "O quanto deixou de cumprir\n",
        "Faz tempo que a gente cultiva\n",
        "A mais linda roseira que há\n",
        "Mas eis que chega a roda viva\n",
        "E carrega a roseira pra lá\n",
        "Roda mundo, roda-gigante\n",
        "Roda moinho, roda pião"
      ],
      "metadata": {
        "colab": {
          "base_uri": "https://localhost:8080/"
        },
        "id": "rdRwZUStFvoq",
        "outputId": "1524c44e-5a66-434c-c7ee-ddb7eda977da"
      },
      "execution_count": null,
      "outputs": [
        {
          "output_type": "stream",
          "name": "stdout",
          "text": [
            "Writing musica.txt\n"
          ]
        }
      ]
    },
    {
      "cell_type": "markdown",
      "source": [
        "#1. Classe para ler arquivos de texto\n",
        "Crie a classe ArquivoTexto . Ela deve conter os seguintes atributos:\n",
        "\n",
        "**self.arquivo** : Atributo do tipo str com o nome do arquivo;\n",
        "\n",
        "**self.conteudo** : Atributo do tipo list onde cada elemento é uma linha do arquivo;\n",
        "\n",
        "A classe também deve conter o seguinte método:\n",
        "\n",
        "self.extrair_linha : Método que recebe como parâmetro o número da linha e\n",
        "retorna o seu conteúdo.\n"
      ],
      "metadata": {
        "id": "XoW0thJPF5o3"
      }
    },
    {
      "cell_type": "code",
      "source": [
        "class ArquivoTexto:\n",
        "    def __init__(self, arquivo):\n",
        "        self.arquivo = arquivo\n",
        "        with open(self.arquivo, 'r') as f:\n",
        "            self.conteudo = f.readlines()\n",
        "\n",
        "    def extrair_linha(self, numero_linha):\n",
        "        return self.conteudo[numero_linha - 1]"
      ],
      "metadata": {
        "id": "1jr9hm56GRbR"
      },
      "execution_count": null,
      "outputs": []
    },
    {
      "cell_type": "markdown",
      "source": [
        "Utilize o código abaixo para testar sua classe.\n"
      ],
      "metadata": {
        "id": "wLrsiwapGfy6"
      }
    },
    {
      "cell_type": "code",
      "source": [
        "arquivo_texto = ArquivoTexto(arquivo='musica.txt')\n",
        "numero_linha = 1\n",
        "print(arquivo_texto.extrair_linha(numero_linha=numero_linha))\n",
        "numero_linha = 10\n",
        "print(arquivo_texto.extrair_linha(numero_linha=numero_linha))\n",
        "# Mas eis que chega a roda viva\n"
      ],
      "metadata": {
        "colab": {
          "base_uri": "https://localhost:8080/"
        },
        "id": "2joWF5hrGg4q",
        "outputId": "3c069c14-a8f1-447a-ce02-506d2985207e"
      },
      "execution_count": null,
      "outputs": [
        {
          "output_type": "stream",
          "name": "stdout",
          "text": [
            "Roda Viva\n",
            "\n",
            "Mas eis que chega a roda viva\n",
            "\n"
          ]
        }
      ]
    },
    {
      "cell_type": "markdown",
      "source": [
        "#2. Classe para ler arquivos de csv\n",
        "Crie a classe ArquivoCSV . Ela deve extender (herdar) a classe ArquivoTexto para\n",
        "reaproveitar os seus atributos ( self.arquivo e self.conteudo ) e método\n",
        "( self.extrair_linha ). Além disso, adicione o seguinte atributo:\n",
        "\n",
        "self.colunas : Atributo do tipo list onde os elementos são os nome das colunas;\n",
        "\n",
        "A classe também deve conter o seguinte método:\n",
        "\n",
        "self.extrair_coluna_da_linha : Método que recebe como parâmetro o numero da\n",
        "linha e o indice da coluna e retorna o valor em questão.\n"
      ],
      "metadata": {
        "id": "899yAbV9Gv0V"
      }
    },
    {
      "cell_type": "code",
      "source": [
        "class ArquivoCSV(ArquivoTexto):\n",
        "    def __init__(self, nome_arquivo):\n",
        "        super().__init__(nome_arquivo)\n",
        "        self.colunas = []\n",
        "    \n",
        "    def extrair_coluna_da_linha(self, num_linha, indice_coluna):\n",
        "        linha = self.extrair_linha(num_linha)\n",
        "        valores = linha.split(',')\n",
        "        return valores[indice_coluna]"
      ],
      "metadata": {
        "id": "AYe4cMN0HJEI"
      },
      "execution_count": null,
      "outputs": []
    },
    {
      "cell_type": "markdown",
      "source": [
        "Utilize o código abaixo para testar sua classe."
      ],
      "metadata": {
        "id": "mM1H_hquHNwn"
      }
    },
    {
      "cell_type": "code",
      "source": [
        "# Criando uma instância da classe ArquivoCSV com o nome do arquivo desejado\n",
        "arquivo = ArquivoCSV('carros.csv')\n",
        "\n",
        "# Extraindo coluna da linha desejada e imprimindo na tela\n",
        "numero_linha = 10\n",
        "numero_coluna = 2\n",
        "print(arquivo.extrair_coluna_da_linha(numero_linha, numero_coluna))  # low\n",
        "\n",
        "# Imprimindo a lista de colunas do arquivo\n",
        "print(arquivo.colunas)  # ['id', 'valor_venda', 'valor_manutencao', 'portas', 'pessoas', 'porta_malas']\n",
        "\n",
        "# Extraindo uma linha específica do arquivo\n",
        "numero_linha = 10\n",
        "print(arquivo.extrair_linha(numero_linha))  # 9,low,med,2,2,small\n"
      ],
      "metadata": {
        "id": "NKoY4itvHYIM",
        "colab": {
          "base_uri": "https://localhost:8080/"
        },
        "outputId": "e517cc0b-23fd-43fa-be6f-9b383b4ab351"
      },
      "execution_count": null,
      "outputs": [
        {
          "output_type": "stream",
          "name": "stdout",
          "text": [
            "med\n",
            "[]\n",
            "9,low,med,2,2,small\n",
            "\n"
          ]
        }
      ]
    }
  ]
}